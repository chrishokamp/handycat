{
 "cells": [
  {
   "cell_type": "code",
   "execution_count": 1,
   "metadata": {
    "collapsed": true
   },
   "outputs": [],
   "source": [
    "# create a new user programmatically\n",
    "# then create new projects for this user programmatically\n",
    "\n",
    "# for each of 4 projects (1,2,3,4), for each of four settings (edit, edit_qe, edit_constrained, edit_qe_constrained)\n",
    "\n",
    "# there are 4! permutations of project orders = 24\n",
    "# we always show tasks in the same order"
   ]
  },
  {
   "cell_type": "code",
   "execution_count": 2,
   "metadata": {
    "collapsed": true
   },
   "outputs": [],
   "source": [
    "import itertools"
   ]
  },
  {
   "cell_type": "code",
   "execution_count": 3,
   "metadata": {
    "collapsed": true
   },
   "outputs": [],
   "source": [
    "project_permutations = list(itertools.permutations(range(1,5)))"
   ]
  },
  {
   "cell_type": "code",
   "execution_count": 4,
   "metadata": {
    "collapsed": true
   },
   "outputs": [],
   "source": [
    "project_permutations\n",
    "\n",
    "def cycle(l, start_idx):\n",
    "    out = []\n",
    "    current_idx = start_idx\n",
    "    for _ in range(len(l)):\n",
    "        if current_idx < len(l):\n",
    "            out.append(l[current_idx])\n",
    "            current_idx += 1\n",
    "        else:\n",
    "            out.append(l[0])\n",
    "            current_idx = 1\n",
    "    return out\n",
    "            \n",
    "\n",
    "# now process these in a different way, \n",
    "# so that in every group of four, nobody has the same setting for the same project\n",
    "six_groups = []\n",
    "for start_group in project_permutations[0:6]:\n",
    "    permuted_group = []\n",
    "    for start in range(len(start_group)):\n",
    "        permuted_group.append(cycle(start_group, start))\n",
    "    six_groups.append(permuted_group)\n"
   ]
  },
  {
   "cell_type": "code",
   "execution_count": 5,
   "metadata": {
    "collapsed": false
   },
   "outputs": [
    {
     "data": {
      "text/plain": [
       "[[[1, 2, 3, 4], [2, 3, 4, 1], [3, 4, 1, 2], [4, 1, 2, 3]],\n",
       " [[1, 2, 4, 3], [2, 4, 3, 1], [4, 3, 1, 2], [3, 1, 2, 4]],\n",
       " [[1, 3, 2, 4], [3, 2, 4, 1], [2, 4, 1, 3], [4, 1, 3, 2]],\n",
       " [[1, 3, 4, 2], [3, 4, 2, 1], [4, 2, 1, 3], [2, 1, 3, 4]],\n",
       " [[1, 4, 2, 3], [4, 2, 3, 1], [2, 3, 1, 4], [3, 1, 4, 2]],\n",
       " [[1, 4, 3, 2], [4, 3, 2, 1], [3, 2, 1, 4], [2, 1, 4, 3]]]"
      ]
     },
     "execution_count": 5,
     "metadata": {},
     "output_type": "execute_result"
    }
   ],
   "source": [
    "six_groups"
   ]
  },
  {
   "cell_type": "code",
   "execution_count": 6,
   "metadata": {
    "collapsed": false
   },
   "outputs": [
    {
     "data": {
      "text/plain": [
       "24"
      ]
     },
     "execution_count": 6,
     "metadata": {},
     "output_type": "execute_result"
    }
   ],
   "source": [
    "len(set(tuple(lt) for g in six_groups for lt in g))"
   ]
  },
  {
   "cell_type": "code",
   "execution_count": null,
   "metadata": {
    "collapsed": true
   },
   "outputs": [],
   "source": [
    "user_name. pass, project_order"
   ]
  }
 ],
 "metadata": {
  "kernelspec": {
   "display_name": "Python 2",
   "language": "python",
   "name": "python2"
  },
  "language_info": {
   "codemirror_mode": {
    "name": "ipython",
    "version": 2
   },
   "file_extension": ".py",
   "mimetype": "text/x-python",
   "name": "python",
   "nbconvert_exporter": "python",
   "pygments_lexer": "ipython2",
   "version": "2.7.12"
  }
 },
 "nbformat": 4,
 "nbformat_minor": 2
}
