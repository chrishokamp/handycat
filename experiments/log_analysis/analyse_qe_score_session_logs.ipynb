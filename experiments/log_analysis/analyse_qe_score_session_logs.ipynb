{
 "cells": [
  {
   "cell_type": "code",
   "execution_count": 1,
   "metadata": {
    "collapsed": true
   },
   "outputs": [],
   "source": [
    "#  Do you think you could convert them to a format that would just give me the following information (per segment) for now?\n",
    "\n",
    "# - clicking the score is only relevant in non-baseline settings\n",
    "\n",
    "# - Time duration between previous event and clicking the score [x]\n",
    "# - Time duration between clicking the score and finishing post-editing the segment (Ctrl+Enter) [x]\n",
    "# - Total keystrokes used while post-editing the segment [x]\n",
    "# - Diff between initial MT suggestion and final post-edited text "
   ]
  },
  {
   "cell_type": "code",
   "execution_count": 10,
   "metadata": {
    "collapsed": true
   },
   "outputs": [],
   "source": [
    "import os\n",
    "import json\n",
    "import codecs\n",
    "import difflib\n",
    "from collections import defaultdict, Counter\n"
   ]
  },
  {
   "cell_type": "code",
   "execution_count": 11,
   "metadata": {
    "collapsed": true
   },
   "outputs": [],
   "source": [
    "logdir = '/home/chris/Desktop/Dropbox/projects/handycat_qe_score_with_carlos/results/prototype_analysis/'"
   ]
  },
  {
   "cell_type": "code",
   "execution_count": 15,
   "metadata": {
    "collapsed": false
   },
   "outputs": [],
   "source": [
    "logfiles = [os.path.join(logdir, f) for f in os.listdir(logdir)\n",
    "            if os.path.isfile(os.path.join(logdir, f))]"
   ]
  },
  {
   "cell_type": "code",
   "execution_count": 16,
   "metadata": {
    "collapsed": false
   },
   "outputs": [
    {
     "data": {
      "text/plain": [
       "2"
      ]
     },
     "execution_count": 16,
     "metadata": {},
     "output_type": "execute_result"
    }
   ],
   "source": [
    "len(logfiles)"
   ]
  },
  {
   "cell_type": "code",
   "execution_count": 17,
   "metadata": {
    "collapsed": false
   },
   "outputs": [],
   "source": [
    "json_logs = [json.loads(codecs.open(f, encoding='utf8').read()) for f in logfiles]"
   ]
  },
  {
   "cell_type": "code",
   "execution_count": 18,
   "metadata": {
    "collapsed": true
   },
   "outputs": [],
   "source": [
    "def tasks_from_session_log(log):\n",
    "    return [(name, log['document'][name]['segments']) for name in log['document'].keys()]"
   ]
  },
  {
   "cell_type": "code",
   "execution_count": 19,
   "metadata": {
    "collapsed": false
   },
   "outputs": [],
   "source": [
    "tasks_by_log = [tasks_from_session_log(log) for log in json_logs]"
   ]
  },
  {
   "cell_type": "code",
   "execution_count": 20,
   "metadata": {
    "collapsed": true
   },
   "outputs": [],
   "source": [
    "# time per segment given a dict of segments \n",
    "def get_time_per_segment(segments):\n",
    "    ordered_segments = sorted([(int(k), v) for k,v in segments.items()], key=lambda x: x[0])\n",
    "    segment_times = []\n",
    "    for seg_id, events in ordered_segments:\n",
    "        action_names = [e['action'] for e in events]\n",
    "        time_in_segment = 0\n",
    "        if 'change-segment' in action_names:\n",
    "            start_event_idx = action_names.index('change-segment')\n",
    "            # first index of 'change-segment'\n",
    "            start_event_time = events[start_event_idx]['time']\n",
    "            if 'segment-complete' in action_names:\n",
    "                # last index of 'segment-complete'\n",
    "                end_event_idx = len(action_names) - 1 - action_names[::-1].index('segment-complete')\n",
    "                end_event_time = events[end_event_idx]['time']\n",
    "                time_in_segment = end_event_time - start_event_time\n",
    "                # convert to seconds\n",
    "                time_in_segment = time_in_segment / 1000.\n",
    "\n",
    "        segment_times.append((seg_id, time_in_segment))\n",
    "\n",
    "    return segment_times\n",
    "    "
   ]
  },
  {
   "cell_type": "code",
   "execution_count": 21,
   "metadata": {
    "collapsed": false
   },
   "outputs": [],
   "source": [
    "# time per segment given a dict of segments \n",
    "def get_total_keystrokes_per_segment(segments):\n",
    "    ordered_segments = sorted([(int(k), v) for k,v in segments.items()], key=lambda x: x[0])\n",
    "    segment_keystrokes = []\n",
    "    for seg_id, events in ordered_segments:\n",
    "        action_names = [e['action'] for e in events]\n",
    "        num_keystrokes = sum([1 for action in action_names if action == 'plaintextEditor.keypress'])\n",
    "        segment_keystrokes.append((seg_id, num_keystrokes))\n",
    "\n",
    "    return segment_keystrokes"
   ]
  },
  {
   "cell_type": "code",
   "execution_count": 22,
   "metadata": {
    "collapsed": true
   },
   "outputs": [],
   "source": [
    "# time per segment given a dict of segments \n",
    "def get_time_spent_editing(segments):\n",
    "    ordered_segments = sorted([(int(k), v) for k,v in segments.items()], key=lambda x: x[0])\n",
    "    segment_times = []\n",
    "    for seg_id, events in ordered_segments:\n",
    "        action_names = [e['action'] for e in events]\n",
    "        time_in_segment = 0\n",
    "        if 'qeScore.accept' in action_names:\n",
    "            start_event_idx = action_names.index('qeScore.accept')\n",
    "            start_event_time = events[start_event_idx]['time']\n",
    "        elif 'change-segment' in action_names:\n",
    "            start_event_idx = action_names.index('change-segment')\n",
    "            start_event_time = events[start_event_idx]['time']\n",
    "\n",
    "        if 'segment-complete' in action_names:\n",
    "            # last index of 'segment-complete'\n",
    "            end_event_idx = len(action_names) - 1 - action_names[::-1].index('segment-complete')\n",
    "            end_event_time = events[end_event_idx]['time']\n",
    "            time_in_segment = end_event_time - start_event_time\n",
    "            # convert to seconds\n",
    "            time_in_segment = time_in_segment / 1000.\n",
    "\n",
    "        segment_times.append((seg_id, time_in_segment))\n",
    "    return segment_times"
   ]
  },
  {
   "cell_type": "code",
   "execution_count": 23,
   "metadata": {
    "collapsed": true
   },
   "outputs": [],
   "source": [
    "# 'qeScore.accept'\n",
    "# time per segment given a dict of segments \n",
    "def get_time_until_score_clicked(segments):\n",
    "    ordered_segments = sorted([(int(k), v) for k,v in segments.items()], key=lambda x: x[0])\n",
    "    segment_times = []\n",
    "    for seg_id, events in ordered_segments:\n",
    "        action_names = [e['action'] for e in events]\n",
    "        time_until_score_clicked = 0\n",
    "        if 'change-segment' in action_names:\n",
    "            # first index of 'change-segment'\n",
    "            start_event_idx = action_names.index('change-segment')\n",
    "            start_event_time = events[start_event_idx]['time']\n",
    "            if 'qeScore.accept' in action_names:\n",
    "                # last index of 'segment-complete'\n",
    "                click_event_idx = action_names.index('qeScore.accept')\n",
    "                click_event_time = events[click_event_idx]['time']\n",
    "                time_until_score_clicked = click_event_time - start_event_time\n",
    "                # convert to seconds\n",
    "                time_until_score_clicked = time_until_score_clicked / 1000.\n",
    "\n",
    "        segment_times.append((seg_id, time_until_score_clicked))\n",
    "\n",
    "    return segment_times"
   ]
  },
  {
   "cell_type": "code",
   "execution_count": 24,
   "metadata": {
    "collapsed": true
   },
   "outputs": [],
   "source": [
    "# \"action\": \"segment-complete\",\n",
    "#             \"data\": {\n",
    "#               \"segmentId\": 0,\n",
    "#               \"previousValue\": \"El sábado, el nuevo Presidente de México Enrique Pena Nieto recibirán la banda presidencial y hacerse cargo del gobierno de la nación.\",\n",
    "#               \"newValue\": \"El sábado, el nuevo Presidente de México Enrique Pena Nieto recibirá la banda presidencial y se hará cargo del gobierno de la nación.\"\n",
    "#             }\n",
    " \n",
    "def get_before_after_from_segments(segments):\n",
    "    ordered_segments = sorted([(int(k), v) for k,v in segments.items()], key=lambda x: x[0])\n",
    "    segment_before_after = []\n",
    "    for seg_id, events in ordered_segments:\n",
    "        action_names = [e['action'] for e in events]\n",
    "        before = u''\n",
    "        after = u''\n",
    "        if 'segment-complete' in action_names:\n",
    "            # first index of 'change-segment'\n",
    "            end_event_idx = action_names.index('segment-complete')\n",
    "            before = events[end_event_idx]['data']['previousValue']\n",
    "            after = events[end_event_idx]['data']['newValue']\n",
    "\n",
    "        segment_before_after.append((seg_id, before, after))\n",
    "\n",
    "    return segment_before_after"
   ]
  },
  {
   "cell_type": "code",
   "execution_count": 25,
   "metadata": {
    "collapsed": true
   },
   "outputs": [],
   "source": [
    "import difflib\n",
    "\n",
    "def get_edit_distance(before, after):\n",
    "    matcher = difflib.SequenceMatcher(isjunk=None, a=before, b=after)\n",
    "    return 1. - matcher.ratio()"
   ]
  },
  {
   "cell_type": "code",
   "execution_count": 26,
   "metadata": {
    "collapsed": false
   },
   "outputs": [],
   "source": [
    "editing_times_by_task_by_log = [[(name, get_time_spent_editing(segments)) for name, segments in log] \n",
    "                                 for log in tasks_by_log]"
   ]
  },
  {
   "cell_type": "code",
   "execution_count": 27,
   "metadata": {
    "collapsed": false
   },
   "outputs": [],
   "source": [
    "time_until_score_clicked_by_task_by_log = [[(name, get_time_until_score_clicked(segments)) for name, segments in log] \n",
    "                                           for log in tasks_by_log]"
   ]
  },
  {
   "cell_type": "code",
   "execution_count": 28,
   "metadata": {
    "collapsed": true
   },
   "outputs": [],
   "source": [
    "num_keystrokes_by_task_by_log = [[(name, get_total_keystrokes_per_segment(segments)) for name, segments in log] \n",
    "                                  for log in tasks_by_log]\n",
    "\n"
   ]
  },
  {
   "cell_type": "code",
   "execution_count": 29,
   "metadata": {
    "collapsed": false
   },
   "outputs": [],
   "source": [
    "before_after_by_task_by_log = [[(name, get_before_after_from_segments(segments)) for name, segments in log] \n",
    "                                  for log in tasks_by_log]"
   ]
  },
  {
   "cell_type": "code",
   "execution_count": 38,
   "metadata": {
    "collapsed": false
   },
   "outputs": [
    {
     "name": "stdout",
     "output_type": "stream",
     "text": [
      "Wrote Translator_11_Task_3_PRJ2\n",
      "Wrote Translator_6_Task_1_PRJ0\n",
      "Wrote Translator_11_Task_1_PRJ0\n",
      "Wrote Translator_3:_task:_0_project_name:_PRJ2\n",
      "Wrote Translator_11_Task_2_PRJ1\n",
      "Wrote Translator_11_Task_4_PRJ3\n",
      "Wrote Translator_6_Task_3_PRJ2\n",
      "Wrote Translator_6_Task_4_PRJ3\n",
      "Wrote Translator_6_Task_2_PRJ1\n",
      "Wrote Translator_6_Task_1_PRJ0_1\n"
     ]
    }
   ],
   "source": [
    "import re\n",
    "\n",
    "already_used_filenames = set()\n",
    "for i, log in enumerate(tasks_by_log):\n",
    "    for j, (task_name, segments) in enumerate(log):\n",
    "        task_name = re.sub(u' \\| ', u'_', task_name)\n",
    "        task_name = re.sub(u' ', u'_', task_name)\n",
    "        rows = []\n",
    "        rows.append(['segment', 'time_until_score_accept', 'editing_time', \n",
    "                     'num_keystrokes', 'original', 'post_edited', 'edit_distance'])\n",
    "        for seg_id in sorted([int(k) for k in segments.keys()]):\n",
    "            _, time_until_score_accept = time_until_score_clicked_by_task_by_log[i][j][1][seg_id]\n",
    "            _, editing_time = editing_times_by_task_by_log[i][j][1][seg_id]\n",
    "            _, num_keystrokes = num_keystrokes_by_task_by_log[i][j][1][seg_id]\n",
    "            _, before_, after_ = before_after_by_task_by_log[i][j][1][seg_id]\n",
    "            edit_distance = get_edit_distance(before_, after_)\n",
    "            new_row = [seg_id, time_until_score_accept, editing_time, num_keystrokes, before_, after_, edit_distance]\n",
    "            rows.append(new_row)            \n",
    "        \n",
    "        output_file = task_name\n",
    "        if output_file in already_used_filenames:\n",
    "            idx = 1\n",
    "            while output_file in already_used_filenames:\n",
    "                output_file = output_file + '_{}'.format(idx)\n",
    "                idx += 1\n",
    "        output_file = output_file\n",
    "        with codecs.open(output_file + '.tsv', 'w', encoding='utf8') as out:\n",
    "            for row in rows:\n",
    "                out.write(u'{}\\t{}\\t{}\\t{}\\t{}\\t{}\\t{}\\n'.format(*row))\n",
    "            already_used_filenames.update([output_file])\n",
    "            print('Wrote {}'.format(output_file))\n",
    "            \n",
    "        "
   ]
  }
 ],
 "metadata": {
  "kernelspec": {
   "display_name": "Python 2",
   "language": "python",
   "name": "python2"
  },
  "language_info": {
   "codemirror_mode": {
    "name": "ipython",
    "version": 2
   },
   "file_extension": ".py",
   "mimetype": "text/x-python",
   "name": "python",
   "nbconvert_exporter": "python",
   "pygments_lexer": "ipython2",
   "version": "2.7.12"
  }
 },
 "nbformat": 4,
 "nbformat_minor": 0
}
