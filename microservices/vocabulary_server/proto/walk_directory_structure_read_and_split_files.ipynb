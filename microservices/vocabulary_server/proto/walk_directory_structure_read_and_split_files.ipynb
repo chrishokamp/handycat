{
 "cells": [
  {
   "cell_type": "code",
   "execution_count": 4,
   "metadata": {
    "collapsed": false
   },
   "outputs": [
    {
     "name": "stdout",
     "output_type": "stream",
     "text": [
      "The autoreload extension is already loaded. To reload it, use:\n",
      "  %reload_ext autoreload\n"
     ]
    }
   ],
   "source": [
    "from __future__ import division, print_function\n",
    "import numpy as np\n",
    "import codecs\n",
    "import re\n",
    "import os\n",
    "\n",
    "%load_ext autoreload\n",
    "%autoreload 2"
   ]
  },
  {
   "cell_type": "code",
   "execution_count": null,
   "metadata": {
    "collapsed": true
   },
   "outputs": [],
   "source": [
    "import gzip\n",
    "f = gzip.open('file.txt.gz', 'rb')\n",
    "# remember to make unicode"
   ]
  },
  {
   "cell_type": "code",
   "execution_count": 13,
   "metadata": {
    "collapsed": false
   },
   "outputs": [
    {
     "data": {
      "text/plain": [
       "u'adfasefa'"
      ]
     },
     "execution_count": 13,
     "metadata": {},
     "output_type": "execute_result"
    }
   ],
   "source": [
    "test = 'adfasefa'\n",
    "test.decode('utf8')"
   ]
  },
  {
   "cell_type": "code",
   "execution_count": null,
   "metadata": {
    "collapsed": true
   },
   "outputs": [],
   "source": [
    "/scratch/chokamp/data/EnglishGigaword/gigaword_eng_5_d1/data/afp_eng/"
   ]
  },
  {
   "cell_type": "code",
   "execution_count": 7,
   "metadata": {
    "collapsed": true
   },
   "outputs": [],
   "source": [
    "%%bash\n",
    "mkdir /home/chris/projects/gigaword/proto/sample_data/dir1/dir69\n"
   ]
  },
  {
   "cell_type": "code",
   "execution_count": 9,
   "metadata": {
    "collapsed": false
   },
   "outputs": [
    {
     "name": "stdout",
     "output_type": "stream",
     "text": [
      "0\n",
      "/home/chris/projects/gigaword/proto/sample_data/dir2\n",
      "/home/chris/projects/gigaword/proto/sample_data/dir1\n",
      "0\n",
      "0\n",
      "/home/chris/projects/gigaword/proto/sample_data/dir1/dir69\n",
      "0\n"
     ]
    }
   ],
   "source": [
    "gigaword_directory = '/home/chris/projects/gigaword/proto/sample_data/'\n",
    "english_news_sources = set(['afp_eng', 'apw_eng', 'cna_eng', 'ltw_eng', 'nyt_eng', 'wpb_eng', 'xin_eng']\n",
    "# recursively traverse the directory, only enter the directories if they are one of the news sources\n",
    "iter =0\n",
    "text_dirs = []\n",
    "for dirname, dirnames, filenames in os.walk(gigaword_directory):\n",
    "    print(iter)\n",
    "    for subdirname in dirnames:\n",
    "        print(os.path.join(dirname, subdirname))\n"
   ]
  },
  {
   "cell_type": "code",
   "execution_count": null,
   "metadata": {
    "collapsed": true
   },
   "outputs": [],
   "source": [
    "# map the pool over the set of filenames to get a very long list of candidates"
   ]
  }
 ],
 "metadata": {
  "kernelspec": {
   "display_name": "Python 2",
   "language": "python",
   "name": "python2"
  },
  "language_info": {
   "codemirror_mode": {
    "name": "ipython",
    "version": 2
   },
   "file_extension": ".py",
   "mimetype": "text/x-python",
   "name": "python",
   "nbconvert_exporter": "python",
   "pygments_lexer": "ipython2",
   "version": "2.7.9"
  }
 },
 "nbformat": 4,
 "nbformat_minor": 0
}
